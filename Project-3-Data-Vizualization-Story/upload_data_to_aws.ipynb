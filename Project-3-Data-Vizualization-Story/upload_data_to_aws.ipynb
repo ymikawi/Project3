{
 "cells": [
  {
   "cell_type": "code",
   "execution_count": 1,
   "metadata": {},
   "outputs": [],
   "source": [
    "import pandas as pd\n",
    "import sys\n",
    "from sqlalchemy import create_engine\n",
    "import pymysql\n",
    "sys.path.append('../')\n",
    "from config import zillow_api_key, remote_db_endpoint, remote_db_port, remote_dbname, remote_dbuser, remote_dbpwd\n",
    "pymysql.install_as_MySQLdb()"
   ]
  },
  {
   "cell_type": "code",
   "execution_count": 2,
   "metadata": {},
   "outputs": [],
   "source": [
    "# AWS Database Connection\n",
    "engine = create_engine(f\"mysql://{remote_dbuser}:{remote_dbpwd}@{remote_db_endpoint}:{remote_db_port}/{remote_dbname}\")\n",
    "\n",
    "# Create a remote database engine connection\n",
    "conn = engine.connect()"
   ]
  },
  {
   "cell_type": "code",
   "execution_count": 3,
   "metadata": {},
   "outputs": [],
   "source": [
    "test = pd.read_csv('foreclosure_data_4-12.csv')"
   ]
  },
  {
   "cell_type": "code",
   "execution_count": 4,
   "metadata": {},
   "outputs": [
    {
     "data": {
      "text/plain": [
       "Unnamed: 0                    int64\n",
       "_id_x                        object\n",
       "auction_location             object\n",
       "auction_time                 object\n",
       "city_url                     object\n",
       "date_of_auction              object\n",
       "date_of_scraping             object\n",
       "deposit                     float64\n",
       "law_firm                     object\n",
       "listing_url                  object\n",
       "principal_amount              int64\n",
       "principal_date               object\n",
       "property_address             object\n",
       "_id_y                        object\n",
       "bathrooms                   float64\n",
       "bedrooms                    float64\n",
       "lat                         float64\n",
       "lgn                         float64\n",
       "lot_size                    float64\n",
       "region_name                  object\n",
       "unique_id                    object\n",
       "zcity                        object\n",
       "zestimate                   float64\n",
       "zpid                          int64\n",
       "zstate                       object\n",
       "zstreet_address              object\n",
       "zzip                          int64\n",
       "days_from_principal_date      int64\n",
       "estimated_principal         float64\n",
       "estimated_equity            float64\n",
       "dtype: object"
      ]
     },
     "execution_count": 4,
     "metadata": {},
     "output_type": "execute_result"
    }
   ],
   "source": [
    "test.dtypes"
   ]
  },
  {
   "cell_type": "code",
   "execution_count": 5,
   "metadata": {},
   "outputs": [],
   "source": [
    "test.to_sql(name='foreclosure_data_final', if_exists='append', con=conn, chunksize=500, index=False)"
   ]
  },
  {
   "cell_type": "code",
   "execution_count": null,
   "metadata": {},
   "outputs": [],
   "source": []
  }
 ],
 "metadata": {
  "kernelspec": {
   "display_name": "Python 3",
   "language": "python",
   "name": "python3"
  },
  "language_info": {
   "codemirror_mode": {
    "name": "ipython",
    "version": 3
   },
   "file_extension": ".py",
   "mimetype": "text/x-python",
   "name": "python",
   "nbconvert_exporter": "python",
   "pygments_lexer": "ipython3",
   "version": "3.7.0"
  }
 },
 "nbformat": 4,
 "nbformat_minor": 2
}
